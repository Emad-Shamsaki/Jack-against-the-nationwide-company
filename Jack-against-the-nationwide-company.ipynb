{
 "cells": [
  {
   "cell_type": "markdown",
   "metadata": {},
   "source": [
    "# Jack against the nationwide company\n",
    "\n",
    "A a modification of the Jack's Car Rental problem.\n",
    "One of Jack’s employees at the first location rides a bus home each night and lives near the second location. She is happy to **shuttle one car to the second location for free**, while each additional car costs the usual $2\\$$. Moreover, the nationwide car rental company has changed its policy on parking spaces: for each location now Jack can only park up to 10 vehicles free of charge. **If more than 10 cars are kept overnight at a location, then an additional cost of $4\\$$ must be incurred** to use a second parking lot (independent of how many cars are kept there). The car rental company charges Jack with the additional parking lots price first thing in the morning, **before any possible moving of cars**.\n",
    "In order to fulfill the exercise requirements, you need to **modify and solve** the new instance of the Jack's car rental problem with a **Value Iteration** algorithm.\n",
    "Generate a subplot with six cells as the one seen in the \"Tutorial Lecture\" with the figures of 5 policies at different iterations: #0, #7, #14, #21, and the last (optimal!) one. In the sixth box plot the optimal value-function.\n",
    "Use $\\texttt{constant}$_$\\texttt{returned}$_$\\texttt{cars}$ = **True**.\n"
   ]
  },
  {
   "cell_type": "code",
   "execution_count": 1,
   "metadata": {},
   "outputs": [],
   "source": [
    "import matplotlib\n",
    "import matplotlib.pyplot as plt\n",
    "import numpy as np\n",
    "import seaborn as sns\n",
    "from scipy.stats import poisson"
   ]
  },
  {
   "cell_type": "code",
   "execution_count": 2,
   "metadata": {},
   "outputs": [],
   "source": [
    "# maximum # of cars in each location\n",
    "MAX_CARS = 20\n",
    "\n",
    "# maximum # of cars to move during night\n",
    "MAX_MOVE_OF_CARS = 5\n",
    "\n",
    "# expectation for rental requests in first location\n",
    "RENTAL_REQUEST_FIRST_LOC = 3\n",
    "\n",
    "# expectation for rental requests in second location\n",
    "RENTAL_REQUEST_SECOND_LOC = 4\n",
    "\n",
    "# expectation for # of cars returned in first location\n",
    "RETURNS_FIRST_LOC = 3\n",
    "\n",
    "# expectation for # of cars returned in second location\n",
    "RETURNS_SECOND_LOC = 2\n",
    "\n",
    "DISCOUNT = 0.9\n",
    "\n",
    "# credit earned by a car\n",
    "RENTAL_CREDIT = 10\n",
    "\n",
    "# cost of moving a car\n",
    "MOVE_CAR_COST = 2\n",
    "\n",
    "SECOND_PARKING_LOT_REWARDS = 4\n",
    "\n",
    "# all possible actions\n",
    "actions = np.arange(-MAX_MOVE_OF_CARS, MAX_MOVE_OF_CARS + 1)\n",
    "# Moving a negative number of cars means that we are moving them in the opposite direction (from II to I)\n",
    "\n",
    "# An upper bound for poisson distribution\n",
    "# If n is greater than this value, then the probability of getting n is truncated to 0\n",
    "POISSON_UPPER_BOUND = 11\n",
    "# This is done to save some computational time, since probability at this point is negligible\n",
    "\n",
    "# Probability for poisson distribution\n",
    "# @lam: lambda should be less than 10 for this function\n",
    "poisson_cache = dict()\n",
    "# We will iteratively build a dictionary for the poisson random variable values, again to save computational time\n",
    "# The constraint on lambda is only due to \"bad\" indexing"
   ]
  },
  {
   "cell_type": "code",
   "execution_count": 3,
   "metadata": {},
   "outputs": [],
   "source": [
    "def poisson_probability(n, lam):\n",
    "    global poisson_cache\n",
    "    # Simple identifier if lam < 10\n",
    "    key = n * 10 + lam\n",
    "    if key not in poisson_cache:\n",
    "        poisson_cache[key] = poisson.pmf(n, lam)\n",
    "    return poisson_cache[key]"
   ]
  },
  {
   "cell_type": "code",
   "execution_count": 4,
   "metadata": {},
   "outputs": [],
   "source": [
    "def expected_return(state, action, state_value, constant_returned_cars):\n",
    "    \"\"\"\n",
    "    @state: [# of cars in first location, # of cars in second location]\n",
    "    @action: positive if moving cars from first location to second location,\n",
    "            negative if moving cars from second location to first location\n",
    "    @stateValue: state value matrix\n",
    "    @constant_returned_cars:  if set True, model is simplified such that\n",
    "    the # of cars returned in daytime becomes constant\n",
    "    rather than a random value from poisson distribution, which will reduce calculation time\n",
    "    and leave the optimal policy/value state matrix almost the same\n",
    "    \"\"\"\n",
    "    # initialize total return\n",
    "    returns = 0.0\n",
    "    \n",
    "    ### my code add nonlinearity\n",
    "    if action <= 0:\n",
    "        returns -= MOVE_CAR_COST * abs(action)\n",
    "    else:\n",
    "        #1 free move\n",
    "        returns -= MOVE_CAR_COST * abs(action - 1) \n",
    "        \n",
    "    if state[0]> 10:\n",
    "        returns -= SECOND_PARKING_LOT_REWARDS\n",
    "    if state[1]>10:\n",
    "        returns -= SECOND_PARKING_LOT_REWARDS\n",
    "    \n",
    "    \n",
    "    # cost for moving cars\n",
    "    #returns -= MOVE_CAR_COST * abs(action)\n",
    "\n",
    "    # moving cars\n",
    "    NUM_OF_CARS_FIRST_LOC = min(state[0] - action, MAX_CARS)\n",
    "    NUM_OF_CARS_SECOND_LOC = min(state[1] + action, MAX_CARS)\n",
    "\n",
    "    # We are computing an expectation in at least 2 dimensions, i.e. for each (meaningful) value we need to compute its probability!\n",
    "    # go through all possible rental requests\n",
    "    for rental_request_first_loc in range(POISSON_UPPER_BOUND):\n",
    "        for rental_request_second_loc in range(POISSON_UPPER_BOUND):\n",
    "            # probability for current combination of rental requests\n",
    "            prob = poisson_probability(rental_request_first_loc, RENTAL_REQUEST_FIRST_LOC) * \\\n",
    "                poisson_probability(rental_request_second_loc, RENTAL_REQUEST_SECOND_LOC)\n",
    "\n",
    "            num_of_cars_first_loc = NUM_OF_CARS_FIRST_LOC\n",
    "            num_of_cars_second_loc = NUM_OF_CARS_SECOND_LOC\n",
    "\n",
    "            # valid rental requests should be less than actual # of cars\n",
    "            valid_rental_first_loc = min(num_of_cars_first_loc, rental_request_first_loc)\n",
    "            valid_rental_second_loc = min(num_of_cars_second_loc, rental_request_second_loc)\n",
    "\n",
    "            # get credits for renting\n",
    "            reward = (valid_rental_first_loc + valid_rental_second_loc) * RENTAL_CREDIT\n",
    "            num_of_cars_first_loc -= valid_rental_first_loc\n",
    "            num_of_cars_second_loc -= valid_rental_second_loc\n",
    "\n",
    "            if constant_returned_cars:\n",
    "                # get returned cars, those cars can be used for renting tomorrow\n",
    "                returned_cars_first_loc = RETURNS_FIRST_LOC\n",
    "                returned_cars_second_loc = RETURNS_SECOND_LOC\n",
    "                num_of_cars_first_loc = min(num_of_cars_first_loc + returned_cars_first_loc, MAX_CARS)\n",
    "                num_of_cars_second_loc = min(num_of_cars_second_loc + returned_cars_second_loc, MAX_CARS)\n",
    "                returns += prob * (reward + DISCOUNT * state_value[num_of_cars_first_loc, num_of_cars_second_loc])\n",
    "            else:\n",
    "                for returned_cars_first_loc in range(POISSON_UPPER_BOUND):\n",
    "                    for returned_cars_second_loc in range(POISSON_UPPER_BOUND):\n",
    "                        prob_return = poisson_probability(\n",
    "                            returned_cars_first_loc, RETURNS_FIRST_LOC) * poisson_probability(returned_cars_second_loc, RETURNS_SECOND_LOC)\n",
    "                        num_of_cars_first_loc_ = min(num_of_cars_first_loc + returned_cars_first_loc, MAX_CARS)\n",
    "                        num_of_cars_second_loc_ = min(num_of_cars_second_loc + returned_cars_second_loc, MAX_CARS)\n",
    "                        prob_ = prob_return * prob\n",
    "                        returns += prob_ * (reward + DISCOUNT *\n",
    "                                            state_value[num_of_cars_first_loc_, num_of_cars_second_loc_])\n",
    "    return returns"
   ]
  },
  {
   "cell_type": "code",
   "execution_count": 5,
   "metadata": {
    "scrolled": false
   },
   "outputs": [
    {
     "name": "stdout",
     "output_type": "stream",
     "text": [
      "max value change 332.82747885856116\n",
      "max value change 146.3593230770976\n",
      "max value change 94.68460874706841\n",
      "max value change 64.44184666442646\n",
      "max value change 47.805070304782305\n",
      "max value change 37.757889271744546\n",
      "max value change 29.751744550829358\n",
      "max value change 23.4975227371055\n",
      "max value change 18.616705372675824\n",
      "max value change 15.215401647366548\n",
      "max value change 12.87797344082719\n",
      "max value change 10.87265485707394\n",
      "max value change 9.198158901471686\n",
      "max value change 7.7758500605261816\n",
      "max value change 6.569120286691771\n",
      "max value change 5.547577195845008\n",
      "max value change 4.683999209590411\n",
      "max value change 3.957183831822306\n",
      "max value change 3.4007029980228936\n",
      "max value change 2.9120886629914366\n",
      "max value change 2.4903915741087417\n",
      "max value change 2.1286005831666444\n",
      "max value change 1.8189155532475638\n",
      "max value change 1.5541946277560328\n",
      "max value change 1.3293508985943276\n",
      "max value change 1.137186509239541\n",
      "max value change 0.9728057167038742\n",
      "max value change 0.8321770138878719\n",
      "max value change 0.7118710861427644\n",
      "max value change 0.6089540954955623\n",
      "max value change 0.5209144213735044\n",
      "max value change 0.4456023264155533\n",
      "max value change 0.38117824438415937\n",
      "max value change 0.3260682677335467\n",
      "max value change 0.27892590054381117\n",
      "max value change 0.23859925542359406\n",
      "max value change 0.20410295247768317\n",
      "max value change 0.17459406223508722\n",
      "max value change 0.14935151798761126\n",
      "max value change 0.12775850061291294\n",
      "max value change 0.10928736828788033\n",
      "max value change 0.09348676415589807\n",
      "max value change 0.07997058752886232\n",
      "max value change 0.06840855942635926\n",
      "max value change 0.05851815203533306\n",
      "max value change 0.05005768495919938\n",
      "max value change 0.042820419575718915\n",
      "max value change 0.03662950721445668\n",
      "max value change 0.03133366772254931\n",
      "max value change 0.026803492800240747\n",
      "max value change 0.022928283807971184\n",
      "max value change 0.0196133467487698\n",
      "max value change 0.016777678342805302\n",
      "max value change 0.014351986644555836\n",
      "max value change 0.012276997831463632\n",
      "max value change 0.010502007804745972\n",
      "max value change 0.008983643187491452\n",
      "max value change 0.007684801461323332\n",
      "max value change 0.006573744333195464\n",
      "max value change 0.005623322186522728\n",
      "max value change 0.004810310656125694\n",
      "max value change 0.0041148431196234014\n",
      "max value change 0.0035199252419033655\n",
      "max value change 0.0030110197023986984\n",
      "max value change 0.0025756909673759765\n",
      "max value change 0.0022033014106455084\n",
      "max value change 0.0018847513803166294\n",
      "max value change 0.0016122568385412706\n",
      "max value change 0.0013791591501330913\n",
      "max value change 0.0011797623786264921\n",
      "max value change 0.0010091940940810673\n",
      "max value change 0.000863286317667189\n",
      "max value change 0.0007384736705375872\n",
      "max value change 0.0006317062492371406\n",
      "max value change 0.0005403751025028214\n",
      "max value change 0.00046224847596931795\n",
      "max value change 0.0003954172814815138\n",
      "max value change 0.0003382484413805287\n",
      "max value change 0.0002893449859016073\n",
      "max value change 0.00024751191961058794\n",
      "max value change 0.00021172701593741294\n",
      "max value change 0.00018111583977997725\n",
      "max value change 0.00015493038159775097\n",
      "max value change 0.00013253077878516706\n",
      "max value change 0.00011336967605757309\n",
      "max value change 9.697885798232164e-05\n"
     ]
    }
   ],
   "source": [
    "# This is the parameter of the function in the original code\n",
    "constant_returned_cars = True\n",
    "\n",
    "#1st step : Initialization of the value-function and policy\n",
    "value = np.zeros((MAX_CARS + 1, MAX_CARS + 1))\n",
    "\n",
    "# We start considering the simplest policy: for every possible state, no car is moved\n",
    "# It makes sense: if is not clear what a meaningful action might be, better not to pay the cost of moving cars!\n",
    "policy = np.zeros(value.shape, dtype=np.int)\n",
    "iterations = 0\n",
    "all_p = []\n",
    "\n",
    "#2nd step\n",
    "while True:    \n",
    "    old_value = value.copy()\n",
    "    # Sweep through all states following the same policy    \n",
    "    plicy_copy = policy.copy()\n",
    "    all_p.append(plicy_copy)\n",
    "    for i in range(MAX_CARS + 1):\n",
    "        for j in range(MAX_CARS + 1):\n",
    "            old_action = policy[i, j]\n",
    "            action_returns = []\n",
    "            \n",
    "            \n",
    "            for action in actions:\n",
    "                # if it is a 'legal' action, i.e. I am not trying to move more cars than I have in that location\n",
    "                if (0 <= action <= i) or (-j <= action <= 0):\n",
    "                    action_returns.append(expected_return([i, j], action, value, constant_returned_cars))\n",
    "                else:\n",
    "                    action_returns.append(-np.inf)\n",
    "            new_action = actions[np.argmax(action_returns)]            \n",
    "            policy[i, j] = new_action  \n",
    "            \n",
    "            new_state_value = expected_return([i, j], policy[i, j], value, constant_returned_cars)\n",
    "            # in-place update!\n",
    "            value[i, j] = new_state_value\n",
    "        max_value_change = abs(old_value - value).max()        \n",
    "            \n",
    "    #print(iterations)\n",
    "    iterations += 1              \n",
    "    print('max value change {}'.format(max_value_change))\n",
    "    if max_value_change < 1e-4: \n",
    "        break\n"
   ]
  },
  {
   "cell_type": "code",
   "execution_count": 29,
   "metadata": {},
   "outputs": [
    {
     "data": {
      "text/plain": [
       "86"
      ]
     },
     "execution_count": 29,
     "metadata": {},
     "output_type": "execute_result"
    }
   ],
   "source": [
    "len(all_p)"
   ]
  },
  {
   "cell_type": "code",
   "execution_count": 19,
   "metadata": {},
   "outputs": [
    {
     "data": {
      "text/plain": [
       "Text(0.5, 1.0, 'Plolicy 0')"
      ]
     },
     "execution_count": 19,
     "metadata": {},
     "output_type": "execute_result"
    },
    {
     "data": {
      "image/png": "[encoded data removed]",
      "text/plain": [
       "<Figure size 432x288 with 2 Axes>"
      ]
     },
     "metadata": {
      "needs_background": "light"
     },
     "output_type": "display_data"
    }
   ],
   "source": [
    "for i in range(len(all_p)):\n",
    "    \n",
    "fig = sns.heatmap(np.flipud(all_p[0]), cmap=\"YlGnBu\")\n",
    "\n",
    "fig.set_xlabel('# cars at second location', fontsize=10)\n",
    "fig.set_ylabel('# cars at first location', fontsize=10)\n",
    "fig.set_yticks(list(reversed(range(MAX_CARS + 1))))\n",
    "fig.set_title('Plolicy 0', fontsize=10)\n"
   ]
  },
  {
   "cell_type": "code",
   "execution_count": 20,
   "metadata": {},
   "outputs": [
    {
     "data": {
      "text/plain": [
       "Text(0.5, 1.0, 'Plolicy 7')"
      ]
     },
     "execution_count": 20,
     "metadata": {},
     "output_type": "execute_result"
    },
    {
     "data": {
      "image/png": "[encoded data removed]",
      "text/plain": [
       "<Figure size 432x288 with 2 Axes>"
      ]
     },
     "metadata": {
      "needs_background": "light"
     },
     "output_type": "display_data"
    }
   ],
   "source": [
    "fig = sns.heatmap(np.flipud(all_p[7]), cmap=\"YlGnBu\")\n",
    "\n",
    "fig.set_xlabel('# cars at second location', fontsize=10)\n",
    "fig.set_ylabel('# cars at first location', fontsize=10)\n",
    "fig.set_yticks(list(reversed(range(MAX_CARS + 1))))\n",
    "fig.set_title('Plolicy 7', fontsize=10)"
   ]
  },
  {
   "cell_type": "code",
   "execution_count": 21,
   "metadata": {},
   "outputs": [
    {
     "data": {
      "text/plain": [
       "Text(0.5, 1.0, 'Plolicy 14')"
      ]
     },
     "execution_count": 21,
     "metadata": {},
     "output_type": "execute_result"
    },
    {
     "data": {
      "image/png": "[encoded data removed]",
      "text/plain": [
       "<Figure size 432x288 with 2 Axes>"
      ]
     },
     "metadata": {
      "needs_background": "light"
     },
     "output_type": "display_data"
    }
   ],
   "source": [
    "fig = sns.heatmap(np.flipud(all_p[14]), cmap=\"YlGnBu\")\n",
    "\n",
    "fig.set_xlabel('# cars at second location', fontsize=10)\n",
    "fig.set_ylabel('# cars at first location', fontsize=10)\n",
    "fig.set_yticks(list(reversed(range(MAX_CARS + 1))))\n",
    "fig.set_title('Plolicy 14', fontsize=10)"
   ]
  },
  {
   "cell_type": "code",
   "execution_count": 22,
   "metadata": {
    "scrolled": false
   },
   "outputs": [
    {
     "data": {
      "text/plain": [
       "Text(0.5, 1.0, 'Plolicy Optimal')"
      ]
     },
     "execution_count": 22,
     "metadata": {},
     "output_type": "execute_result"
    },
    {
     "data": {
      "image/png": "[encoded data removed]",
      "text/plain": [
       "<Figure size 432x288 with 2 Axes>"
      ]
     },
     "metadata": {
      "needs_background": "light"
     },
     "output_type": "display_data"
    }
   ],
   "source": [
    "fig = sns.heatmap(np.flipud(all_p[85]), cmap=\"YlGnBu\",annot = True)\n",
    "\n",
    "fig.set_xlabel('# cars at second location', fontsize=10)\n",
    "fig.set_ylabel('# cars at first location', fontsize=10)\n",
    "fig.set_yticks(list(reversed(range(MAX_CARS + 1))))\n",
    "fig.set_title('Plolicy Optimal', fontsize=10)\n",
    "#fig.invert_yaxis()"
   ]
  },
  {
   "cell_type": "markdown",
   "metadata": {},
   "source": []
  },
  {
   "cell_type": "code",
   "execution_count": 25,
   "metadata": {},
   "outputs": [
    {
     "data": {
      "text/plain": [
       "Text(0.5, 1.0, 'Optimal Value')"
      ]
     },
     "execution_count": 25,
     "metadata": {},
     "output_type": "execute_result"
    },
    {
     "data": {
      "image/png": "[encoded data removed]",
      "text/plain": [
       "<Figure size 432x288 with 2 Axes>"
      ]
     },
     "metadata": {
      "needs_background": "light"
     },
     "output_type": "display_data"
    }
   ],
   "source": [
    "fig = sns.heatmap(np.flipud(value), cmap=\"YlGnBu\")\n",
    "\n",
    "fig.set_xlabel('# cars at second location', fontsize=10)\n",
    "fig.set_ylabel('# cars at first location', fontsize=10)\n",
    "fig.set_yticks(list(reversed(range(MAX_CARS + 1))))\n",
    "fig.set_title('Optimal Value', fontsize=10)"
   ]
  },
  {
   "cell_type": "code",
   "execution_count": null,
   "metadata": {},
   "outputs": [],
   "source": []
  }
 ],
 "metadata": {
  "kernelspec": {
   "display_name": "Python 3",
   "language": "python",
   "name": "python3"
  },
  "language_info": {
   "codemirror_mode": {
    "name": "ipython",
    "version": 3
   },
   "file_extension": ".py",
   "mimetype": "text/x-python",
   "name": "python",
   "nbconvert_exporter": "python",
   "pygments_lexer": "ipython3",
   "version": "3.8.5"
  }
 },
 "nbformat": 4,
 "nbformat_minor": 4
}
